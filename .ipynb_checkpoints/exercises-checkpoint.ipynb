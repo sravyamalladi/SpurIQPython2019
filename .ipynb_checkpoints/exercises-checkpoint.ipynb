{
 "cells": [
  {
   "cell_type": "markdown",
   "metadata": {},
   "source": [
    "# Python Basics"
   ]
  },
  {
   "cell_type": "code",
   "execution_count": 31,
   "metadata": {},
   "outputs": [
    {
     "name": "stdout",
     "output_type": "stream",
     "text": [
      "20\n",
      "4\n",
      "24\n"
     ]
    }
   ],
   "source": [
    "x = 16\n",
    "y = 4\n",
    "x += y\n",
    "print(x)\n",
    "print(y)\n",
    "print(x + y)"
   ]
  },
  {
   "cell_type": "markdown",
   "metadata": {},
   "source": [
    "x = 20\n",
    "y = 4\n",
    "\n",
    "print(20 * 4)\n",
    "print(x * y)"
   ]
  },
  {
   "cell_type": "markdown",
   "metadata": {},
   "source": [
    "b = 5\n",
    "a = b + 1\n",
    "\n",
    "\n",
    "if  a> b:\n",
    "    print(\"I've mastered decision making\")\n",
    "else:\n",
    "    print(\"  ? _ ? \")"
   ]
  },
  {
   "cell_type": "code",
   "execution_count": 20,
   "metadata": {},
   "outputs": [
    {
     "name": "stdout",
     "output_type": "stream",
     "text": [
      "{'desert': 'pie', 'dinner': 'eggplant parmasion', 'drink': 'almond milk'}\n"
     ]
    }
   ],
   "source": [
    "a = \"pie\"\n",
    "b =  \"eggplant parmasion\"\n",
    "c = \"almond milk\"\n",
    "fooddict = {\n",
    "    \"desert\": a,\n",
    "    \"dinner\": b,\n",
    "    \"drink\": c\n",
    "}\n",
    "print(fooddict)"
   ]
  },
  {
   "cell_type": "code",
   "execution_count": 21,
   "metadata": {},
   "outputs": [
    {
     "name": "stdout",
     "output_type": "stream",
     "text": [
      "pie\n",
      "eggplant parmasion\n",
      "almond milk\n"
     ]
    }
   ],
   "source": [
    "a = \"pie\"\n",
    "b =  \"eggplant parmasion\"\n",
    "c = \"almond milk\"\n",
    "foodlist = [a,b,c]\n",
    "count = 0\n",
    "l = len(foodlist)\n",
    "while count < l:\n",
    "    print(foodlist[count])\n",
    "    count += 1"
   ]
  },
  {
   "cell_type": "code",
   "execution_count": 22,
   "metadata": {},
   "outputs": [
    {
     "name": "stdout",
     "output_type": "stream",
     "text": [
      "('pie', 'eggplant parmasion', 'almond milk')\n"
     ]
    }
   ],
   "source": [
    "a = \"pie\"\n",
    "b =  \"eggplant parmasion\"\n",
    "c = \"almond milk\"\n",
    "foodtuple = (a, b, c)\n",
    "print(foodtuple)"
   ]
  },
  {
   "cell_type": "code",
   "execution_count": 23,
   "metadata": {},
   "outputs": [
    {
     "name": "stdout",
     "output_type": "stream",
     "text": [
      "{'eggplant parmasion', 'almond milk', 'pie'}\n"
     ]
    }
   ],
   "source": [
    "a = \"pie\"\n",
    "b =  \"eggplant parmasion\"\n",
    "c = \"almond milk\"\n",
    "foodset = {a, b, c}\n",
    "print(foodset)"
   ]
  },
  {
   "cell_type": "code",
   "execution_count": null,
   "metadata": {},
   "outputs": [],
   "source": []
  }
 ],
 "metadata": {
  "kernelspec": {
   "display_name": "Python 3",
   "language": "python",
   "name": "python3"
  },
  "language_info": {
   "codemirror_mode": {
    "name": "ipython",
    "version": 3
   },
   "file_extension": ".py",
   "mimetype": "text/x-python",
   "name": "python",
   "nbconvert_exporter": "python",
   "pygments_lexer": "ipython3",
   "version": "3.7.3"
  }
 },
 "nbformat": 4,
 "nbformat_minor": 2
}
